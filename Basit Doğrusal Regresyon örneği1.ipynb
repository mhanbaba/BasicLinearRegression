{
 "cells": [
  {
   "cell_type": "markdown",
   "id": "fe0c24b1-40a1-4489-bfd9-2f96ad6cfdb5",
   "metadata": {},
   "source": [
    "**Acaba bölgede bulunan bakkal sayısı ev fiyatlarını etkiliyor mu?**"
   ]
  },
  {
   "cell_type": "markdown",
   "id": "0e9aed09-b170-4349-a905-e353b85cb776",
   "metadata": {},
   "source": [
    "\" https://www.kaggle.com/datasets/quantbruce/real-estate-price-prediction?resource=download \" linkinden aldığım veri seti üzerinden bu soruyu yanıtlayalım. Bunun için gerekli olan paketleri yüklemekle başlıyoruz."
   ]
  },
  {
   "cell_type": "code",
   "execution_count": 2,
   "id": "305ed18c-04a4-48d7-adea-851e397c6016",
   "metadata": {},
   "outputs": [],
   "source": [
    "import pandas as pd\n",
    "import matplotlib.pyplot as plt\n",
    "import seaborn as sns"
   ]
  },
  {
   "cell_type": "code",
   "execution_count": 3,
   "id": "3f6e3364-0102-4ab1-8fc8-93926faa25b6",
   "metadata": {},
   "outputs": [],
   "source": [
    "df = pd.read_csv(\"Real estate.csv\")"
   ]
  },
  {
   "cell_type": "markdown",
   "id": "1cab56fd-62c5-472f-b34a-f453f4b3f1b3",
   "metadata": {},
   "source": [
    "Veri setimize ucundan bir göz atalım."
   ]
  },
  {
   "cell_type": "code",
   "execution_count": 17,
   "id": "c8a11d3e-cf8b-454e-82fe-3679a02958f9",
   "metadata": {},
   "outputs": [
    {
     "data": {
      "text/html": [
       "<div>\n",
       "<style scoped>\n",
       "    .dataframe tbody tr th:only-of-type {\n",
       "        vertical-align: middle;\n",
       "    }\n",
       "\n",
       "    .dataframe tbody tr th {\n",
       "        vertical-align: top;\n",
       "    }\n",
       "\n",
       "    .dataframe thead th {\n",
       "        text-align: right;\n",
       "    }\n",
       "</style>\n",
       "<table border=\"1\" class=\"dataframe\">\n",
       "  <thead>\n",
       "    <tr style=\"text-align: right;\">\n",
       "      <th></th>\n",
       "      <th>No</th>\n",
       "      <th>X1 transaction date</th>\n",
       "      <th>X2 house age</th>\n",
       "      <th>X3 distance to the nearest MRT station</th>\n",
       "      <th>X4 number of convenience stores</th>\n",
       "      <th>X5 latitude</th>\n",
       "      <th>X6 longitude</th>\n",
       "      <th>Y house price of unit area</th>\n",
       "    </tr>\n",
       "  </thead>\n",
       "  <tbody>\n",
       "    <tr>\n",
       "      <th>0</th>\n",
       "      <td>1</td>\n",
       "      <td>2012.917</td>\n",
       "      <td>32.0</td>\n",
       "      <td>84.87882</td>\n",
       "      <td>10</td>\n",
       "      <td>24.98298</td>\n",
       "      <td>121.54024</td>\n",
       "      <td>37.9</td>\n",
       "    </tr>\n",
       "    <tr>\n",
       "      <th>1</th>\n",
       "      <td>2</td>\n",
       "      <td>2012.917</td>\n",
       "      <td>19.5</td>\n",
       "      <td>306.59470</td>\n",
       "      <td>9</td>\n",
       "      <td>24.98034</td>\n",
       "      <td>121.53951</td>\n",
       "      <td>42.2</td>\n",
       "    </tr>\n",
       "    <tr>\n",
       "      <th>2</th>\n",
       "      <td>3</td>\n",
       "      <td>2013.583</td>\n",
       "      <td>13.3</td>\n",
       "      <td>561.98450</td>\n",
       "      <td>5</td>\n",
       "      <td>24.98746</td>\n",
       "      <td>121.54391</td>\n",
       "      <td>47.3</td>\n",
       "    </tr>\n",
       "    <tr>\n",
       "      <th>3</th>\n",
       "      <td>4</td>\n",
       "      <td>2013.500</td>\n",
       "      <td>13.3</td>\n",
       "      <td>561.98450</td>\n",
       "      <td>5</td>\n",
       "      <td>24.98746</td>\n",
       "      <td>121.54391</td>\n",
       "      <td>54.8</td>\n",
       "    </tr>\n",
       "    <tr>\n",
       "      <th>4</th>\n",
       "      <td>5</td>\n",
       "      <td>2012.833</td>\n",
       "      <td>5.0</td>\n",
       "      <td>390.56840</td>\n",
       "      <td>5</td>\n",
       "      <td>24.97937</td>\n",
       "      <td>121.54245</td>\n",
       "      <td>43.1</td>\n",
       "    </tr>\n",
       "  </tbody>\n",
       "</table>\n",
       "</div>"
      ],
      "text/plain": [
       "   No  X1 transaction date  X2 house age  \\\n",
       "0   1             2012.917          32.0   \n",
       "1   2             2012.917          19.5   \n",
       "2   3             2013.583          13.3   \n",
       "3   4             2013.500          13.3   \n",
       "4   5             2012.833           5.0   \n",
       "\n",
       "   X3 distance to the nearest MRT station  X4 number of convenience stores  \\\n",
       "0                                84.87882                               10   \n",
       "1                               306.59470                                9   \n",
       "2                               561.98450                                5   \n",
       "3                               561.98450                                5   \n",
       "4                               390.56840                                5   \n",
       "\n",
       "   X5 latitude  X6 longitude  Y house price of unit area  \n",
       "0     24.98298     121.54024                        37.9  \n",
       "1     24.98034     121.53951                        42.2  \n",
       "2     24.98746     121.54391                        47.3  \n",
       "3     24.98746     121.54391                        54.8  \n",
       "4     24.97937     121.54245                        43.1  "
      ]
     },
     "execution_count": 17,
     "metadata": {},
     "output_type": "execute_result"
    }
   ],
   "source": [
    "df.head()"
   ]
  },
  {
   "cell_type": "markdown",
   "id": "044fc3b9-1cea-4fa2-87b9-1e61f6f4a13f",
   "metadata": {},
   "source": [
    "Tanımlayıcı istatistikler sayesinde verimiz hakkında kısa bir fikir edinmek istedim."
   ]
  },
  {
   "cell_type": "code",
   "execution_count": 4,
   "id": "f04de386-7ee1-4823-a791-ca724d50ca2d",
   "metadata": {},
   "outputs": [
    {
     "data": {
      "text/html": [
       "<div>\n",
       "<style scoped>\n",
       "    .dataframe tbody tr th:only-of-type {\n",
       "        vertical-align: middle;\n",
       "    }\n",
       "\n",
       "    .dataframe tbody tr th {\n",
       "        vertical-align: top;\n",
       "    }\n",
       "\n",
       "    .dataframe thead th {\n",
       "        text-align: right;\n",
       "    }\n",
       "</style>\n",
       "<table border=\"1\" class=\"dataframe\">\n",
       "  <thead>\n",
       "    <tr style=\"text-align: right;\">\n",
       "      <th></th>\n",
       "      <th>No</th>\n",
       "      <th>X1 transaction date</th>\n",
       "      <th>X2 house age</th>\n",
       "      <th>X3 distance to the nearest MRT station</th>\n",
       "      <th>X4 number of convenience stores</th>\n",
       "      <th>X5 latitude</th>\n",
       "      <th>X6 longitude</th>\n",
       "      <th>Y house price of unit area</th>\n",
       "    </tr>\n",
       "  </thead>\n",
       "  <tbody>\n",
       "    <tr>\n",
       "      <th>count</th>\n",
       "      <td>414.000000</td>\n",
       "      <td>414.000000</td>\n",
       "      <td>414.000000</td>\n",
       "      <td>414.000000</td>\n",
       "      <td>414.000000</td>\n",
       "      <td>414.000000</td>\n",
       "      <td>414.000000</td>\n",
       "      <td>414.000000</td>\n",
       "    </tr>\n",
       "    <tr>\n",
       "      <th>mean</th>\n",
       "      <td>207.500000</td>\n",
       "      <td>2013.148971</td>\n",
       "      <td>17.712560</td>\n",
       "      <td>1083.885689</td>\n",
       "      <td>4.094203</td>\n",
       "      <td>24.969030</td>\n",
       "      <td>121.533361</td>\n",
       "      <td>37.980193</td>\n",
       "    </tr>\n",
       "    <tr>\n",
       "      <th>std</th>\n",
       "      <td>119.655756</td>\n",
       "      <td>0.281967</td>\n",
       "      <td>11.392485</td>\n",
       "      <td>1262.109595</td>\n",
       "      <td>2.945562</td>\n",
       "      <td>0.012410</td>\n",
       "      <td>0.015347</td>\n",
       "      <td>13.606488</td>\n",
       "    </tr>\n",
       "    <tr>\n",
       "      <th>min</th>\n",
       "      <td>1.000000</td>\n",
       "      <td>2012.667000</td>\n",
       "      <td>0.000000</td>\n",
       "      <td>23.382840</td>\n",
       "      <td>0.000000</td>\n",
       "      <td>24.932070</td>\n",
       "      <td>121.473530</td>\n",
       "      <td>7.600000</td>\n",
       "    </tr>\n",
       "    <tr>\n",
       "      <th>25%</th>\n",
       "      <td>104.250000</td>\n",
       "      <td>2012.917000</td>\n",
       "      <td>9.025000</td>\n",
       "      <td>289.324800</td>\n",
       "      <td>1.000000</td>\n",
       "      <td>24.963000</td>\n",
       "      <td>121.528085</td>\n",
       "      <td>27.700000</td>\n",
       "    </tr>\n",
       "    <tr>\n",
       "      <th>50%</th>\n",
       "      <td>207.500000</td>\n",
       "      <td>2013.167000</td>\n",
       "      <td>16.100000</td>\n",
       "      <td>492.231300</td>\n",
       "      <td>4.000000</td>\n",
       "      <td>24.971100</td>\n",
       "      <td>121.538630</td>\n",
       "      <td>38.450000</td>\n",
       "    </tr>\n",
       "    <tr>\n",
       "      <th>75%</th>\n",
       "      <td>310.750000</td>\n",
       "      <td>2013.417000</td>\n",
       "      <td>28.150000</td>\n",
       "      <td>1454.279000</td>\n",
       "      <td>6.000000</td>\n",
       "      <td>24.977455</td>\n",
       "      <td>121.543305</td>\n",
       "      <td>46.600000</td>\n",
       "    </tr>\n",
       "    <tr>\n",
       "      <th>max</th>\n",
       "      <td>414.000000</td>\n",
       "      <td>2013.583000</td>\n",
       "      <td>43.800000</td>\n",
       "      <td>6488.021000</td>\n",
       "      <td>10.000000</td>\n",
       "      <td>25.014590</td>\n",
       "      <td>121.566270</td>\n",
       "      <td>117.500000</td>\n",
       "    </tr>\n",
       "  </tbody>\n",
       "</table>\n",
       "</div>"
      ],
      "text/plain": [
       "               No  X1 transaction date  X2 house age  \\\n",
       "count  414.000000           414.000000    414.000000   \n",
       "mean   207.500000          2013.148971     17.712560   \n",
       "std    119.655756             0.281967     11.392485   \n",
       "min      1.000000          2012.667000      0.000000   \n",
       "25%    104.250000          2012.917000      9.025000   \n",
       "50%    207.500000          2013.167000     16.100000   \n",
       "75%    310.750000          2013.417000     28.150000   \n",
       "max    414.000000          2013.583000     43.800000   \n",
       "\n",
       "       X3 distance to the nearest MRT station  \\\n",
       "count                              414.000000   \n",
       "mean                              1083.885689   \n",
       "std                               1262.109595   \n",
       "min                                 23.382840   \n",
       "25%                                289.324800   \n",
       "50%                                492.231300   \n",
       "75%                               1454.279000   \n",
       "max                               6488.021000   \n",
       "\n",
       "       X4 number of convenience stores  X5 latitude  X6 longitude  \\\n",
       "count                       414.000000   414.000000    414.000000   \n",
       "mean                          4.094203    24.969030    121.533361   \n",
       "std                           2.945562     0.012410      0.015347   \n",
       "min                           0.000000    24.932070    121.473530   \n",
       "25%                           1.000000    24.963000    121.528085   \n",
       "50%                           4.000000    24.971100    121.538630   \n",
       "75%                           6.000000    24.977455    121.543305   \n",
       "max                          10.000000    25.014590    121.566270   \n",
       "\n",
       "       Y house price of unit area  \n",
       "count                  414.000000  \n",
       "mean                    37.980193  \n",
       "std                     13.606488  \n",
       "min                      7.600000  \n",
       "25%                     27.700000  \n",
       "50%                     38.450000  \n",
       "75%                     46.600000  \n",
       "max                    117.500000  "
      ]
     },
     "execution_count": 4,
     "metadata": {},
     "output_type": "execute_result"
    }
   ],
   "source": [
    "df.describe()"
   ]
  },
  {
   "cell_type": "markdown",
   "id": "8c15258a-f957-4b07-a483-02f7a74d09c7",
   "metadata": {},
   "source": [
    "Kullanacağımız parametreleri seçip onları X ve y şeklinde değişkenlere atayalım."
   ]
  },
  {
   "cell_type": "code",
   "execution_count": 13,
   "id": "184a73f2-2c64-4a0d-b67b-bd6ba76ab1ee",
   "metadata": {},
   "outputs": [],
   "source": [
    "data=df[[\"X4 number of convenience stores\", \"Y house price of unit area\"]]"
   ]
  },
  {
   "cell_type": "code",
   "execution_count": 14,
   "id": "f70aab08-ea1b-4bf0-acb8-4d61014872f6",
   "metadata": {},
   "outputs": [
    {
     "data": {
      "text/html": [
       "<div>\n",
       "<style scoped>\n",
       "    .dataframe tbody tr th:only-of-type {\n",
       "        vertical-align: middle;\n",
       "    }\n",
       "\n",
       "    .dataframe tbody tr th {\n",
       "        vertical-align: top;\n",
       "    }\n",
       "\n",
       "    .dataframe thead th {\n",
       "        text-align: right;\n",
       "    }\n",
       "</style>\n",
       "<table border=\"1\" class=\"dataframe\">\n",
       "  <thead>\n",
       "    <tr style=\"text-align: right;\">\n",
       "      <th></th>\n",
       "      <th>X4 number of convenience stores</th>\n",
       "      <th>Y house price of unit area</th>\n",
       "    </tr>\n",
       "  </thead>\n",
       "  <tbody>\n",
       "    <tr>\n",
       "      <th>0</th>\n",
       "      <td>10</td>\n",
       "      <td>37.9</td>\n",
       "    </tr>\n",
       "    <tr>\n",
       "      <th>1</th>\n",
       "      <td>9</td>\n",
       "      <td>42.2</td>\n",
       "    </tr>\n",
       "    <tr>\n",
       "      <th>2</th>\n",
       "      <td>5</td>\n",
       "      <td>47.3</td>\n",
       "    </tr>\n",
       "    <tr>\n",
       "      <th>3</th>\n",
       "      <td>5</td>\n",
       "      <td>54.8</td>\n",
       "    </tr>\n",
       "    <tr>\n",
       "      <th>4</th>\n",
       "      <td>5</td>\n",
       "      <td>43.1</td>\n",
       "    </tr>\n",
       "  </tbody>\n",
       "</table>\n",
       "</div>"
      ],
      "text/plain": [
       "   X4 number of convenience stores  Y house price of unit area\n",
       "0                               10                        37.9\n",
       "1                                9                        42.2\n",
       "2                                5                        47.3\n",
       "3                                5                        54.8\n",
       "4                                5                        43.1"
      ]
     },
     "execution_count": 14,
     "metadata": {},
     "output_type": "execute_result"
    }
   ],
   "source": [
    "data.head()"
   ]
  },
  {
   "cell_type": "code",
   "execution_count": 53,
   "id": "5dcaedf3-7cd5-4bbc-bcdc-a22592b5b446",
   "metadata": {},
   "outputs": [],
   "source": [
    "#input -> X (house age)\n",
    "X= data[\"X4 number of convenience stores\"]\n",
    "\n",
    "#output -> y(house price)\n",
    "y=data[\"Y house price of unit area\"]"
   ]
  },
  {
   "cell_type": "code",
   "execution_count": 54,
   "id": "49109034-c5f6-40f0-b395-c3f29d786018",
   "metadata": {
    "collapsed": true,
    "jupyter": {
     "outputs_hidden": true
    },
    "tags": []
   },
   "outputs": [
    {
     "data": {
      "text/plain": [
       "0      10\n",
       "1       9\n",
       "2       5\n",
       "3       5\n",
       "4       5\n",
       "       ..\n",
       "409     0\n",
       "410     9\n",
       "411     7\n",
       "412     5\n",
       "413     9\n",
       "Name: X4 number of convenience stores, Length: 414, dtype: int64"
      ]
     },
     "execution_count": 54,
     "metadata": {},
     "output_type": "execute_result"
    }
   ],
   "source": [
    "X"
   ]
  },
  {
   "cell_type": "markdown",
   "id": "02e83661-e0a4-4608-8ed8-4bcb168bd52d",
   "metadata": {},
   "source": [
    "X ve y değişkenlerimizi grafik üzerinde bir görelim ve aralarındaki bağlantıya bakalım."
   ]
  },
  {
   "cell_type": "code",
   "execution_count": 55,
   "id": "dc983a65-e1fa-4038-be0f-4882f76f1b35",
   "metadata": {},
   "outputs": [
    {
     "data": {
      "text/plain": [
       "Text(0, 0.5, 'Price')"
      ]
     },
     "execution_count": 55,
     "metadata": {},
     "output_type": "execute_result"
    },
    {
     "data": {
      "image/png": "[encoded data removed]",
      "text/plain": [
       "<Figure size 864x432 with 1 Axes>"
      ]
     },
     "metadata": {
      "needs_background": "light"
     },
     "output_type": "display_data"
    }
   ],
   "source": [
    "plt.subplots(figsize=(12,6))\n",
    "sns.scatterplot(X, y,data=data, color=\"orange\")\n",
    "\n",
    "plt.title(\"convenience stores-Price\")\n",
    "plt.xlabel(\"convenience stores\")\n",
    "plt.ylabel(\"Price\")"
   ]
  },
  {
   "cell_type": "markdown",
   "id": "3acddfb7-fc81-4d36-8841-8a4d0a746da8",
   "metadata": {},
   "source": [
    "**Model oluşturmak**"
   ]
  },
  {
   "cell_type": "markdown",
   "id": "057381bc-8a01-42f3-b68a-2925f343c9bd",
   "metadata": {},
   "source": [
    "Gerekli olan paketleri (sklearn.LinearRegression) yükleyelim ve modelimizi oluşturmaya başlayalım."
   ]
  },
  {
   "cell_type": "code",
   "execution_count": 56,
   "id": "34f8b5e5-8449-4548-a754-9b10ac3469b3",
   "metadata": {},
   "outputs": [],
   "source": [
    "# sklearn LinearRegression\n",
    "\n",
    "from sklearn.linear_model import LinearRegression"
   ]
  },
  {
   "cell_type": "code",
   "execution_count": 57,
   "id": "4988fd36-0f31-497d-888a-85da07ea3d2e",
   "metadata": {},
   "outputs": [],
   "source": [
    "#lineer regresyon nesnesi yaratacağız\n",
    "lr=LinearRegression()"
   ]
  },
  {
   "cell_type": "markdown",
   "id": "29c3f02e-e963-49c6-9a5e-214922b5645a",
   "metadata": {},
   "source": [
    "Hazırlık için boyut kontrolü yapmamız gerekiyor\n",
    "\n",
    "shape -> `(n_samples, n_features)`\n",
    "\n",
    "shape -> `(n, p)`"
   ]
  },
  {
   "cell_type": "code",
   "execution_count": 58,
   "id": "1aab5f5f-7e17-404b-a120-ab806656288e",
   "metadata": {},
   "outputs": [
    {
     "data": {
      "text/plain": [
       "(414,)"
      ]
     },
     "execution_count": 58,
     "metadata": {},
     "output_type": "execute_result"
    }
   ],
   "source": [
    "X.shape"
   ]
  },
  {
   "cell_type": "code",
   "execution_count": 21,
   "id": "72e172ca-03b2-4635-a1eb-2eb2475b45ea",
   "metadata": {},
   "outputs": [
    {
     "data": {
      "text/plain": [
       "(414,)"
      ]
     },
     "execution_count": 21,
     "metadata": {},
     "output_type": "execute_result"
    }
   ],
   "source": [
    "y.shape"
   ]
  },
  {
   "cell_type": "markdown",
   "id": "a6fc4bea-3d0b-4b04-99e3-0a0596173b6a",
   "metadata": {},
   "source": [
    "Gördüğünüz gibi değişkenlerimizin şekli sklearn'ün LinearRegression classının istediği gibi değil.\n",
    "\n",
    "Bunu düzeltmek için gerekli paketi (NumPy) yükleyip şeklini düzeltelim."
   ]
  },
  {
   "cell_type": "code",
   "execution_count": 48,
   "id": "9d70e4c0-0c11-4848-900d-c97b18e6bf66",
   "metadata": {},
   "outputs": [],
   "source": [
    "import numpy as np"
   ]
  },
  {
   "cell_type": "code",
   "execution_count": 22,
   "id": "bd79bbb6-430b-4ec3-83bc-2d0f8ad22f38",
   "metadata": {},
   "outputs": [],
   "source": [
    "X = X.values.reshape(-1, 1)"
   ]
  },
  {
   "cell_type": "code",
   "execution_count": 23,
   "id": "a4ca2e4f-d3cf-4759-9aa5-1e134eded914",
   "metadata": {},
   "outputs": [],
   "source": [
    "y= y.values.reshape(-1,1)"
   ]
  },
  {
   "cell_type": "code",
   "execution_count": 24,
   "id": "8b5d5b20-0642-419b-ba89-dbabbf89ec92",
   "metadata": {},
   "outputs": [
    {
     "name": "stdout",
     "output_type": "stream",
     "text": [
      "X'in yeni shape'i: (414, 1)\n",
      "y'nin yeni shape'i: (414, 1)\n"
     ]
    }
   ],
   "source": [
    "print(\"X'in yeni shape'i:\" , X.shape)\n",
    "print(\"y'nin yeni shape'i:\", y.shape)"
   ]
  },
  {
   "cell_type": "markdown",
   "id": "ba3b82d3-c37c-4ee1-9ad2-ae8d071a0f1f",
   "metadata": {},
   "source": [
    "**Train-Test Split**"
   ]
  },
  {
   "cell_type": "markdown",
   "id": "8b95ed87-7bb1-4baa-ab3b-951dda303935",
   "metadata": {},
   "source": [
    "Toplam 414 gözlemimizi Train-Test olarak ikiye ayıracağız.\n",
    "\n",
    "Train: %70\n",
    "\n",
    "Test: %30\n",
    "\n",
    "Train Data: X_train, y_train\n",
    "\n",
    "Test Data: X_test, y_test"
   ]
  },
  {
   "cell_type": "code",
   "execution_count": 26,
   "id": "9acff8fd-bd25-47cf-8b2e-d4bd2622b01d",
   "metadata": {},
   "outputs": [],
   "source": [
    "# scikit-learn'den import\n",
    "\n",
    "from sklearn.model_selection import train_test_split"
   ]
  },
  {
   "cell_type": "code",
   "execution_count": 27,
   "id": "51a3d6d0-2288-4478-8d13-85da5fe67362",
   "metadata": {},
   "outputs": [],
   "source": [
    "# train data\n",
    "# X_train, y_train\n",
    "\n",
    "# test_data\n",
    "# X_test, y_test\n",
    "\n",
    "X_train, X_test, y_train, y_test = train_test_split(X,y, test_size=0.30, random_state=100)"
   ]
  },
  {
   "cell_type": "code",
   "execution_count": 28,
   "id": "af9d41dc-05a2-454b-8c9b-67a2c9a2670d",
   "metadata": {},
   "outputs": [
    {
     "name": "stdout",
     "output_type": "stream",
     "text": [
      "X_train'in boyutu: (289, 1)\n",
      "y_train'in boyutu: (289, 1)\n",
      "X_test'in boyutu: (125, 1)\n",
      "y_test'in boyutu: (125, 1)\n"
     ]
    }
   ],
   "source": [
    "# test ve train data şekilleri\n",
    "\n",
    "print(\"X_train'in boyutu:\", X_train.shape)\n",
    "print(\"y_train'in boyutu:\", y_train.shape)\n",
    "\n",
    "print(\"X_test'in boyutu:\", X_test.shape)\n",
    "print(\"y_test'in boyutu:\", y_test.shape)"
   ]
  },
  {
   "cell_type": "code",
   "execution_count": 29,
   "id": "3da78565-1712-493d-9ce7-fcb9902490cf",
   "metadata": {},
   "outputs": [
    {
     "data": {
      "text/plain": [
       "numpy.ndarray"
      ]
     },
     "execution_count": 29,
     "metadata": {},
     "output_type": "execute_result"
    }
   ],
   "source": [
    "# X_train'in tipi\n",
    "\n",
    "type(X_train)"
   ]
  },
  {
   "cell_type": "markdown",
   "id": "037c8062-0c87-4b29-8bb4-9dfbe3450491",
   "metadata": {},
   "source": [
    "####  Lineer Regresyon Modelini Çalıştır (Fit)"
   ]
  },
  {
   "cell_type": "code",
   "execution_count": 30,
   "id": "75d8c5c7-77d3-473b-94ff-b5eee8d24342",
   "metadata": {},
   "outputs": [
    {
     "data": {
      "text/plain": [
       "LinearRegression()"
      ]
     },
     "execution_count": 30,
     "metadata": {},
     "output_type": "execute_result"
    }
   ],
   "source": [
    "#regresyonu çalıştır -> fit\n",
    "# fit -> öğrenme (train data üzerinden)\n",
    "\n",
    "lr.fit(X_train, y_train)"
   ]
  },
  {
   "cell_type": "markdown",
   "id": "30f20e6b-fc8b-463d-8811-934d707db37c",
   "metadata": {},
   "source": [
    "#### Katsayıları Hesaplama (intercept_, coef_)"
   ]
  },
  {
   "cell_type": "markdown",
   "id": "44650550-2fee-46b9-95de-3bd209b434f9",
   "metadata": {},
   "source": [
    "Bu kısımda b0 ve b1 katsayılarını öğreneceğiz.\n",
    "\n",
    "$\\beta_0$ -> intercept\n",
    "\n",
    "$\\beta_1$ -> slope (coefficient)"
   ]
  },
  {
   "cell_type": "code",
   "execution_count": 31,
   "id": "87a1be59-82ec-48f9-9236-e6976931f318",
   "metadata": {},
   "outputs": [
    {
     "name": "stdout",
     "output_type": "stream",
     "text": [
      "intercept: [27.70943272]\n"
     ]
    }
   ],
   "source": [
    "# intercept -> beta0\n",
    "print('intercept:', lr.intercept_)"
   ]
  },
  {
   "cell_type": "code",
   "execution_count": 32,
   "id": "fa345156-6de6-48fc-bff9-c350fcd4b2b9",
   "metadata": {},
   "outputs": [
    {
     "name": "stdout",
     "output_type": "stream",
     "text": [
      "slope (coef) eğim: [[2.53743281]]\n"
     ]
    }
   ],
   "source": [
    "#slope(coef_) -> beta 1\n",
    "print(\"slope (coef) eğim:\", lr.coef_)"
   ]
  },
  {
   "cell_type": "markdown",
   "id": "3b21cd5d-0a43-4002-add5-f56eda972bfc",
   "metadata": {},
   "source": [
    "#### Tahmin (Predict)"
   ]
  },
  {
   "cell_type": "markdown",
   "id": "76b87f5c-6f6b-47ed-8de6-c747b7666e51",
   "metadata": {},
   "source": [
    "Modelin katsayılarını öğrendik ve şimdi test datası (X_test)üzerinden y değerlerini tahmin edebiliriz."
   ]
  },
  {
   "cell_type": "markdown",
   "id": "260e9f3f-016b-46aa-a373-02ccd7133ba4",
   "metadata": {},
   "source": [
    "`y_pred`\n",
    "\n",
    "Gerçek y'ler y_test olarak duruyor.\n",
    "\n",
    "Onları tahminimizin doğruluğunu kontrol ederken kullanacağız. "
   ]
  },
  {
   "cell_type": "code",
   "execution_count": 34,
   "id": "473978c8-402c-4a6a-b7fa-81ee4f0e3ca9",
   "metadata": {},
   "outputs": [],
   "source": [
    "# tahmin yap\n",
    "\n",
    "y_pred=lr.predict(X_test)"
   ]
  },
  {
   "cell_type": "code",
   "execution_count": 35,
   "id": "55400fb1-1538-43d7-a9a1-a445231734b5",
   "metadata": {},
   "outputs": [
    {
     "data": {
      "text/plain": [
       "array([[40.39659678],\n",
       "       [35.32173116],\n",
       "       [50.54632803],\n",
       "       [42.93402959],\n",
       "       [42.93402959],\n",
       "       [30.24686554],\n",
       "       [45.47146241],\n",
       "       [42.93402959],\n",
       "       [42.93402959],\n",
       "       [30.24686554],\n",
       "       [37.85916397],\n",
       "       [40.39659678],\n",
       "       [30.24686554],\n",
       "       [30.24686554],\n",
       "       [45.47146241],\n",
       "       [30.24686554],\n",
       "       [50.54632803],\n",
       "       [48.00889522],\n",
       "       [32.78429835],\n",
       "       [27.70943272],\n",
       "       [27.70943272],\n",
       "       [48.00889522],\n",
       "       [30.24686554],\n",
       "       [42.93402959],\n",
       "       [35.32173116],\n",
       "       [32.78429835],\n",
       "       [27.70943272],\n",
       "       [42.93402959],\n",
       "       [37.85916397],\n",
       "       [40.39659678],\n",
       "       [53.08376084],\n",
       "       [40.39659678],\n",
       "       [48.00889522],\n",
       "       [40.39659678],\n",
       "       [30.24686554],\n",
       "       [48.00889522],\n",
       "       [35.32173116],\n",
       "       [27.70943272],\n",
       "       [45.47146241],\n",
       "       [48.00889522],\n",
       "       [42.93402959],\n",
       "       [40.39659678],\n",
       "       [37.85916397],\n",
       "       [30.24686554],\n",
       "       [37.85916397],\n",
       "       [40.39659678],\n",
       "       [48.00889522],\n",
       "       [35.32173116],\n",
       "       [48.00889522],\n",
       "       [37.85916397],\n",
       "       [37.85916397],\n",
       "       [32.78429835],\n",
       "       [37.85916397],\n",
       "       [35.32173116],\n",
       "       [42.93402959],\n",
       "       [42.93402959],\n",
       "       [40.39659678],\n",
       "       [30.24686554],\n",
       "       [50.54632803],\n",
       "       [35.32173116],\n",
       "       [32.78429835],\n",
       "       [40.39659678],\n",
       "       [45.47146241],\n",
       "       [35.32173116],\n",
       "       [37.85916397],\n",
       "       [45.47146241],\n",
       "       [45.47146241],\n",
       "       [40.39659678],\n",
       "       [37.85916397],\n",
       "       [45.47146241],\n",
       "       [30.24686554],\n",
       "       [35.32173116],\n",
       "       [40.39659678],\n",
       "       [40.39659678],\n",
       "       [40.39659678],\n",
       "       [27.70943272],\n",
       "       [42.93402959],\n",
       "       [35.32173116],\n",
       "       [37.85916397],\n",
       "       [27.70943272],\n",
       "       [45.47146241],\n",
       "       [50.54632803],\n",
       "       [45.47146241],\n",
       "       [40.39659678],\n",
       "       [50.54632803],\n",
       "       [40.39659678],\n",
       "       [48.00889522],\n",
       "       [48.00889522],\n",
       "       [50.54632803],\n",
       "       [37.85916397],\n",
       "       [48.00889522],\n",
       "       [27.70943272],\n",
       "       [48.00889522],\n",
       "       [50.54632803],\n",
       "       [40.39659678],\n",
       "       [40.39659678],\n",
       "       [40.39659678],\n",
       "       [40.39659678],\n",
       "       [42.93402959],\n",
       "       [30.24686554],\n",
       "       [42.93402959],\n",
       "       [27.70943272],\n",
       "       [40.39659678],\n",
       "       [37.85916397],\n",
       "       [27.70943272],\n",
       "       [35.32173116],\n",
       "       [30.24686554],\n",
       "       [45.47146241],\n",
       "       [37.85916397],\n",
       "       [37.85916397],\n",
       "       [48.00889522],\n",
       "       [35.32173116],\n",
       "       [40.39659678],\n",
       "       [40.39659678],\n",
       "       [35.32173116],\n",
       "       [45.47146241],\n",
       "       [32.78429835],\n",
       "       [32.78429835],\n",
       "       [35.32173116],\n",
       "       [32.78429835],\n",
       "       [27.70943272],\n",
       "       [45.47146241],\n",
       "       [27.70943272],\n",
       "       [37.85916397],\n",
       "       [35.32173116]])"
      ]
     },
     "execution_count": 35,
     "metadata": {},
     "output_type": "execute_result"
    }
   ],
   "source": [
    "#tahminimizi yazdıralım \n",
    "y_pred"
   ]
  },
  {
   "cell_type": "code",
   "execution_count": 36,
   "id": "1d47630d-783a-475e-8f55-3489824e8b7b",
   "metadata": {},
   "outputs": [
    {
     "data": {
      "text/plain": [
       "(125, 1)"
      ]
     },
     "execution_count": 36,
     "metadata": {},
     "output_type": "execute_result"
    }
   ],
   "source": [
    "#tahmin datamızın şekli\n",
    "y_pred.shape"
   ]
  },
  {
   "cell_type": "code",
   "execution_count": 38,
   "id": "502344a6-dafb-4fb2-8531-c71e55655719",
   "metadata": {},
   "outputs": [
    {
     "data": {
      "text/plain": [
       "(125, 1)"
      ]
     },
     "execution_count": 38,
     "metadata": {},
     "output_type": "execute_result"
    }
   ],
   "source": [
    "#test datamızın şekli\n",
    "#y_test \n",
    "y_test.shape"
   ]
  },
  {
   "cell_type": "markdown",
   "id": "fde5d177-4bb3-4ff3-8fc0-4afbb1b739df",
   "metadata": {},
   "source": [
    "#### Gerçek Data ve Tahmin Datasını Çiz"
   ]
  },
  {
   "cell_type": "markdown",
   "id": "a960103f-c5d7-4d4a-9754-125ccdb47f71",
   "metadata": {},
   "source": [
    "Artık gerkçek verilerle çalışma zamanı.\n",
    "Train datalarımız sayesinde verilermizi öğrendik.\n",
    "\n",
    "Gerçek label -> y_test\n",
    "\n",
    "tahmin label -> y_pred\n",
    "\n",
    "Input -> X_test"
   ]
  },
  {
   "cell_type": "code",
   "execution_count": 39,
   "id": "48e18fff-2fb7-40b5-8003-24ad224ae2d5",
   "metadata": {},
   "outputs": [
    {
     "data": {
      "image/png": "[encoded data removed]",
      "text/plain": [
       "<Figure size 864x432 with 1 Axes>"
      ]
     },
     "metadata": {
      "needs_background": "light"
     },
     "output_type": "display_data"
    }
   ],
   "source": [
    "#Gerçek data -> Grand Truth\n",
    "fig, ax= plt.subplots(figsize=(12,6))\n",
    "ax.scatter(X_test, y_test, label= \"Grand Truth\", c=\"red\")\n",
    "\n",
    "#tahmin data -> Prediction\n",
    "ax.scatter(X_test,y_pred, label=\"Prediction\", c=\"blue\")\n",
    "\n",
    "plt.title('Age- Price PREDICTION')\n",
    "plt.xlabel('Age')\n",
    "plt.ylabel('Price')\n",
    "plt.legend(loc='upper left')\n",
    "plt.show()"
   ]
  },
  {
   "cell_type": "code",
   "execution_count": 59,
   "id": "f03b0d54-d61c-4c47-815d-10416dd227f5",
   "metadata": {},
   "outputs": [
    {
     "data": {
      "text/plain": [
       "array([[48. ],\n",
       "       [31.3],\n",
       "       [59.5],\n",
       "       [34.1],\n",
       "       [48.6],\n",
       "       [26.6],\n",
       "       [39.3],\n",
       "       [45.1],\n",
       "       [69.7],\n",
       "       [23.5]])"
      ]
     },
     "execution_count": 59,
     "metadata": {},
     "output_type": "execute_result"
    }
   ],
   "source": [
    "# ilk 10 gerçek y değerini görelim\n",
    "\n",
    "y_test[0:10]"
   ]
  },
  {
   "cell_type": "code",
   "execution_count": 60,
   "id": "2d420d3b-7abc-4e9f-a6b0-71a046b8a643",
   "metadata": {},
   "outputs": [
    {
     "data": {
      "text/plain": [
       "array([[40.39659678],\n",
       "       [35.32173116],\n",
       "       [50.54632803],\n",
       "       [42.93402959],\n",
       "       [42.93402959],\n",
       "       [30.24686554],\n",
       "       [45.47146241],\n",
       "       [42.93402959],\n",
       "       [42.93402959],\n",
       "       [30.24686554]])"
      ]
     },
     "execution_count": 60,
     "metadata": {},
     "output_type": "execute_result"
    }
   ],
   "source": [
    "# ilk 10 tahmin değerini görelim\n",
    "\n",
    "y_pred[0:10]"
   ]
  },
  {
   "cell_type": "markdown",
   "id": "ed87c8e8-37cd-4ad9-a6b2-d68ff2b85d73",
   "metadata": {},
   "source": [
    "#### Hataları Çizmek ($y - \\hat y$)"
   ]
  },
  {
   "cell_type": "markdown",
   "id": "ced664b4-a75f-4ee8-a7a7-902d1d30a9cb",
   "metadata": {},
   "source": [
    "Hata : Residual -> ($y - \\hat y$)\n",
    "\n",
    "**y_test - y_pred**"
   ]
  },
  {
   "cell_type": "code",
   "execution_count": 42,
   "id": "2b4f9026-063c-4110-8eb7-1b17d4546011",
   "metadata": {},
   "outputs": [],
   "source": [
    "import numpy as np"
   ]
  },
  {
   "cell_type": "code",
   "execution_count": 61,
   "id": "5a477cb1-84e9-4dfa-897a-5ac7ef8bd0d7",
   "metadata": {},
   "outputs": [
    {
     "data": {
      "image/png": "[encoded data removed]",
      "text/plain": [
       "<Figure size 864x576 with 1 Axes>"
      ]
     },
     "metadata": {
      "needs_background": "light"
     },
     "output_type": "display_data"
    }
   ],
   "source": [
    "# Her bir tahmin noktasındaki hatayı görelim\n",
    "indexler = range(1,126)\n",
    "\n",
    "# Residuls -> Hatalar\n",
    "fig, ax = plt.subplots(figsize=(12,8))\n",
    "ax.plot(indexler, y_test - y_pred, label='Residuals', color='red', linewidth=2)\n",
    "\n",
    "# sıfır doğrusunu çiz\n",
    "ax.plot(indexler, np.zeros(125), color='black')\n",
    "\n",
    "plt.title('HATALAR (RESIDUALS)')\n",
    "plt.xlabel('Data Index')\n",
    "plt.ylabel('Price')\n",
    "plt.legend(loc='upper left')\n",
    "plt.show()"
   ]
  },
  {
   "cell_type": "markdown",
   "id": "45cd1c55-1743-475b-b69c-e9eb61e9b228",
   "metadata": {},
   "source": [
    "#### Model Doğruluğunu Kontrol Et (RMSE, ve $R^2$)"
   ]
  },
  {
   "cell_type": "markdown",
   "id": "4d4227b7-9cc7-4468-a409-875890df8086",
   "metadata": {},
   "source": [
    "**RMSE**: Root Mean Squared Error (MSE'nin karekökü aslında)\n",
    "\n",
    "\n",
    "$R^2$: `coefficient of determination`."
   ]
  },
  {
   "cell_type": "code",
   "execution_count": 44,
   "id": "d4084818-86fc-40b3-8fc1-4573da29d8f4",
   "metadata": {},
   "outputs": [],
   "source": [
    "# sklearn import etmek\n",
    "from sklearn.metrics import mean_squared_error, r2_score"
   ]
  },
  {
   "cell_type": "code",
   "execution_count": 45,
   "id": "2bed101d-fe3c-46d1-8e1b-23b529847879",
   "metadata": {},
   "outputs": [],
   "source": [
    "r2= r2_score(y_test,y_pred)"
   ]
  },
  {
   "cell_type": "code",
   "execution_count": 46,
   "id": "16d8811f-f303-4b45-8506-5696b02865d0",
   "metadata": {},
   "outputs": [
    {
     "data": {
      "text/plain": [
       "43.03820258539348"
      ]
     },
     "execution_count": 46,
     "metadata": {},
     "output_type": "execute_result"
    }
   ],
   "source": [
    "r2*100"
   ]
  },
  {
   "cell_type": "code",
   "execution_count": 47,
   "id": "0f26b463-73fd-4c95-a40f-746ef376c861",
   "metadata": {},
   "outputs": [
    {
     "name": "stdout",
     "output_type": "stream",
     "text": [
      "R^2: 43.03820258539348\n"
     ]
    }
   ],
   "source": [
    "print('R^2:', r2*100)"
   ]
  },
  {
   "cell_type": "code",
   "execution_count": 48,
   "id": "e666a7df-6f09-4ebf-8d60-6214840392e4",
   "metadata": {},
   "outputs": [],
   "source": [
    "mse= mean_squared_error(y_test, y_pred)"
   ]
  },
  {
   "cell_type": "code",
   "execution_count": 49,
   "id": "84e19665-dbcc-43f8-98df-78ae7081155c",
   "metadata": {},
   "outputs": [],
   "source": [
    "#rmse hesaplama\n",
    "import math\n",
    "rmse= math.sqrt(mse)"
   ]
  },
  {
   "cell_type": "code",
   "execution_count": 50,
   "id": "9dca8b46-8ba1-41a4-9a2b-60337cf30776",
   "metadata": {},
   "outputs": [
    {
     "data": {
      "text/plain": [
       "8.935225491590023"
      ]
     },
     "execution_count": 50,
     "metadata": {},
     "output_type": "execute_result"
    }
   ],
   "source": [
    "rmse"
   ]
  },
  {
   "cell_type": "markdown",
   "id": "ea6da4d9-2d74-4ffa-9d62-e0e1ac214b20",
   "metadata": {},
   "source": [
    "#### Yorumlar"
   ]
  },
  {
   "cell_type": "markdown",
   "id": "4b577ac9-5b29-42b0-904e-cf24bf482b11",
   "metadata": {},
   "source": [
    "**$R^2$ = %43,04** çıktı.\n",
    "\n",
    "Bu şu demek:\n",
    "\n",
    "Bizim modelimiz gerçek datayı %43,04 oranında temsil ediyor."
   ]
  },
  {
   "cell_type": "markdown",
   "id": "ffbaaf03-4eaf-436e-982c-41f127c11208",
   "metadata": {},
   "source": [
    "**RMSE = 8.94** çıktı.\n",
    "\n",
    "Yani, modelimiz tahmin ederken ortalamada 8.94'lük bir hata yapıyor.\n",
    "\n",
    "Örneğin, gerçek değer = 59,5 iken tahmin = 50,54 çıktı."
   ]
  }
 ],
 "metadata": {
  "kernelspec": {
   "display_name": "Python 3 (ipykernel)",
   "language": "python",
   "name": "python3"
  },
  "language_info": {
   "codemirror_mode": {
    "name": "ipython",
    "version": 3
   },
   "file_extension": ".py",
   "mimetype": "text/x-python",
   "name": "python",
   "nbconvert_exporter": "python",
   "pygments_lexer": "ipython3",
   "version": "3.9.7"
  }
 },
 "nbformat": 4,
 "nbformat_minor": 5
}
